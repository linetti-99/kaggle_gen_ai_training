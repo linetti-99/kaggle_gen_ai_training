{
  "metadata": {
    "kernelspec": {
      "name": "python3",
      "display_name": "Python 3",
      "language": "python"
    },
    "language_info": {
      "name": "python",
      "version": "3.10.14",
      "mimetype": "text/x-python",
      "codemirror_mode": {
        "name": "ipython",
        "version": 3
      },
      "pygments_lexer": "ipython3",
      "nbconvert_exporter": "python",
      "file_extension": ".py"
    },
    "colab": {
      "toc_visible": true,
      "name": "Day 2 - Classifying embeddings with Keras",
      "provenance": [],
      "include_colab_link": true
    },
    "google": {
      "image_path": "/examples/train_text_classifier_embeddings_files/output_3ae76701e178_0.png",
      "keywords": [
        "examples",
        "googleai",
        "samplecode",
        "python",
        "embed"
      ]
    },
    "kaggle": {
      "accelerator": "none",
      "dataSources": [],
      "dockerImageVersionId": 30786,
      "isInternetEnabled": true,
      "language": "python",
      "sourceType": "notebook",
      "isGpuEnabled": false
    }
  },
  "nbformat_minor": 0,
  "nbformat": 4,
  "cells": [
    {
      "cell_type": "markdown",
      "metadata": {
        "id": "view-in-github",
        "colab_type": "text"
      },
      "source": [
        "<a href=\"https://colab.research.google.com/github/linetti-99/kaggle_gen_ai_training/blob/main/Day_2_Classifying_embeddings_with_Keras.ipynb\" target=\"_parent\"><img src=\"https://colab.research.google.com/assets/colab-badge.svg\" alt=\"Open In Colab\"/></a>"
      ]
    },
    {
      "cell_type": "markdown",
      "source": [
        "##### Copyright 2025 Google LLC."
      ],
      "metadata": {
        "id": "v0WeWbFNkUSz"
      }
    },
    {
      "cell_type": "code",
      "source": [
        "# @title Licensed under the Apache License, Version 2.0 (the \"License\");\n",
        "# you may not use this file except in compliance with the License.\n",
        "# You may obtain a copy of the License at\n",
        "#\n",
        "# https://www.apache.org/licenses/LICENSE-2.0\n",
        "#\n",
        "# Unless required by applicable law or agreed to in writing, software\n",
        "# distributed under the License is distributed on an \"AS IS\" BASIS,\n",
        "# WITHOUT WARRANTIES OR CONDITIONS OF ANY KIND, either express or implied.\n",
        "# See the License for the specific language governing permissions and\n",
        "# limitations under the License."
      ],
      "metadata": {
        "cellView": "form",
        "id": "Aqwsgz9lkUst",
        "trusted": true,
        "jupyter": {
          "source_hidden": true
        },
        "_kg_hide-input": true,
        "execution": {
          "iopub.status.busy": "2025-03-31T10:01:18.1556Z",
          "iopub.execute_input": "2025-03-31T10:01:18.15602Z",
          "iopub.status.idle": "2025-03-31T10:01:18.182312Z",
          "shell.execute_reply.started": "2025-03-31T10:01:18.155972Z",
          "shell.execute_reply": "2025-03-31T10:01:18.180984Z"
        }
      },
      "outputs": [],
      "execution_count": null
    },
    {
      "cell_type": "markdown",
      "source": [
        "# Day 2 - Classifying embeddings with Keras and the Gemini API\n",
        "\n",
        "## Overview\n",
        "\n",
        "Welcome back to the Kaggle 5-day Generative AI course. In this notebook, you'll learn to use the embeddings produced by the Gemini API to train a model that can classify newsgroup posts into the categories (the newsgroup itself) from the post contents.\n",
        "\n",
        "This technique uses the Gemini API's embeddings as input, avoiding the need to train on text input directly, and as a result it is able to perform quite well using relatively few examples compared to training a text model from scratch.\n",
        "\n",
        "## For help\n",
        "\n",
        "**Common issues are covered in the [FAQ and troubleshooting guide](https://www.kaggle.com/code/markishere/day-0-troubleshooting-and-faqs).**\n"
      ],
      "metadata": {
        "id": "bhT1u-Pof10V"
      }
    },
    {
      "cell_type": "code",
      "source": [
        "!pip uninstall -qqy jupyterlab kfp 2>/dev/null  # Remove unused conflicting packages\n",
        "!pip install -U -q \"google-genai==1.7.0\""
      ],
      "metadata": {
        "id": "FXq0ygI3BCdQ",
        "trusted": true,
        "execution": {
          "iopub.status.busy": "2025-04-01T14:19:15.43138Z",
          "iopub.execute_input": "2025-04-01T14:19:15.431827Z",
          "iopub.status.idle": "2025-04-01T14:19:36.421448Z",
          "shell.execute_reply.started": "2025-04-01T14:19:15.431774Z",
          "shell.execute_reply": "2025-04-01T14:19:36.419833Z"
        }
      },
      "outputs": [],
      "execution_count": null
    },
    {
      "cell_type": "code",
      "source": [
        "from google import genai\n",
        "from google.genai import types\n",
        "\n",
        "genai.__version__"
      ],
      "metadata": {
        "id": "XiJjB2vWCQJP",
        "trusted": true,
        "execution": {
          "iopub.status.busy": "2025-04-01T14:20:07.549286Z",
          "iopub.execute_input": "2025-04-01T14:20:07.549685Z",
          "iopub.status.idle": "2025-04-01T14:20:09.042456Z",
          "shell.execute_reply.started": "2025-04-01T14:20:07.549646Z",
          "shell.execute_reply": "2025-04-01T14:20:09.041225Z"
        }
      },
      "outputs": [],
      "execution_count": null
    },
    {
      "cell_type": "markdown",
      "source": [
        "### Set up your API key\n",
        "\n",
        "To run the following cell, your API key must be stored it in a [Kaggle secret](https://www.kaggle.com/discussions/product-feedback/114053) named `GOOGLE_API_KEY`.\n",
        "\n",
        "If you don't already have an API key, you can grab one from [AI Studio](https://aistudio.google.com/app/apikey). You can find [detailed instructions in the docs](https://ai.google.dev/gemini-api/docs/api-key).\n",
        "\n",
        "To make the key available through Kaggle secrets, choose `Secrets` from the `Add-ons` menu and follow the instructions to add your key or enable it for this notebook."
      ],
      "metadata": {
        "id": "_mwJYXpElYJc"
      }
    },
    {
      "cell_type": "code",
      "source": [
        "from kaggle_secrets import UserSecretsClient\n",
        "\n",
        "GOOGLE_API_KEY = UserSecretsClient().get_secret(\"GOOGLE_API_KEY\")\n",
        "\n",
        "client = genai.Client(api_key=GOOGLE_API_KEY)"
      ],
      "metadata": {
        "id": "tayrk_A2lZ7A",
        "trusted": true,
        "execution": {
          "iopub.status.busy": "2025-04-01T14:20:17.25834Z",
          "iopub.execute_input": "2025-04-01T14:20:17.258904Z",
          "iopub.status.idle": "2025-04-01T14:20:17.598965Z",
          "shell.execute_reply.started": "2025-04-01T14:20:17.258843Z",
          "shell.execute_reply": "2025-04-01T14:20:17.597643Z"
        }
      },
      "outputs": [],
      "execution_count": null
    },
    {
      "cell_type": "markdown",
      "source": [
        "If you received an error response along the lines of `No user secrets exist for kernel id ...`, then you need to add your API key via `Add-ons`, `Secrets` **and** enable it.\n",
        "\n",
        "![Screenshot of the checkbox to enable GOOGLE_API_KEY secret](https://storage.googleapis.com/kaggle-media/Images/5gdai_sc_3.png)"
      ],
      "metadata": {
        "id": "c79728739642"
      }
    },
    {
      "cell_type": "markdown",
      "source": [
        "## Dataset\n",
        "\n",
        "The [20 Newsgroups Text Dataset](https://scikit-learn.org/0.19/datasets/twenty_newsgroups.html) contains 18,000 newsgroups posts on 20 topics divided into training and test sets. The split between the training and test datasets are based on messages posted before and after a specific date. For this tutorial, you will use sampled subsets of the training and test sets, and perform some processing using Pandas."
      ],
      "metadata": {
        "id": "C5B9sWq0hNEV"
      }
    },
    {
      "cell_type": "code",
      "source": [
        "from sklearn.datasets import fetch_20newsgroups\n",
        "\n",
        "newsgroups_train = fetch_20newsgroups(subset=\"train\")\n",
        "newsgroups_test = fetch_20newsgroups(subset=\"test\")\n",
        "\n",
        "# View list of class names for dataset\n",
        "newsgroups_train.target_names"
      ],
      "metadata": {
        "id": "jDoKis4om-Ea",
        "trusted": true,
        "execution": {
          "iopub.status.busy": "2025-04-01T14:22:27.556218Z",
          "iopub.execute_input": "2025-04-01T14:22:27.556607Z",
          "iopub.status.idle": "2025-04-01T14:22:42.126462Z",
          "shell.execute_reply.started": "2025-04-01T14:22:27.556573Z",
          "shell.execute_reply": "2025-04-01T14:22:42.125443Z"
        }
      },
      "outputs": [],
      "execution_count": null
    },
    {
      "cell_type": "markdown",
      "source": [
        "Here is an example of what a record from the training set looks like."
      ],
      "metadata": {
        "id": "hDz9MjkNl_FD"
      }
    },
    {
      "cell_type": "code",
      "source": [
        "print(newsgroups_train.data[0])"
      ],
      "metadata": {
        "id": "FPq-56AimOPX",
        "trusted": true,
        "execution": {
          "iopub.status.busy": "2025-04-01T14:23:06.099874Z",
          "iopub.execute_input": "2025-04-01T14:23:06.100273Z",
          "iopub.status.idle": "2025-04-01T14:23:06.106207Z",
          "shell.execute_reply.started": "2025-04-01T14:23:06.100237Z",
          "shell.execute_reply": "2025-04-01T14:23:06.105227Z"
        }
      },
      "outputs": [],
      "execution_count": null
    },
    {
      "cell_type": "markdown",
      "source": [
        "Start by preprocessing the data for this tutorial in a Pandas dataframe. To remove any sensitive information like names and email addresses, you will take only the subject and body of each message. This is an optional step that transforms the input data into more generic text, rather than email posts, so that it will work in other contexts."
      ],
      "metadata": {
        "id": "A9-DD7wgCx8j"
      }
    },
    {
      "cell_type": "code",
      "source": [
        "import email\n",
        "import re\n",
        "\n",
        "import pandas as pd\n",
        "\n",
        "\n",
        "def preprocess_newsgroup_row(data):\n",
        "    # Extract only the subject and body\n",
        "    msg = email.message_from_string(data)\n",
        "    text = f\"{msg['Subject']}\\n\\n{msg.get_payload()}\"\n",
        "    # Strip any remaining email addresses\n",
        "    text = re.sub(r\"[\\w\\.-]+@[\\w\\.-]+\", \"\", text)\n",
        "    # Truncate each entry to 5,000 characters\n",
        "    text = text[:5000]\n",
        "\n",
        "    return text\n",
        "\n",
        "\n",
        "def preprocess_newsgroup_data(newsgroup_dataset):\n",
        "    # Put data points into dataframe\n",
        "    df = pd.DataFrame(\n",
        "        {\"Text\": newsgroup_dataset.data, \"Label\": newsgroup_dataset.target}\n",
        "    )\n",
        "    # Clean up the text\n",
        "    df[\"Text\"] = df[\"Text\"].apply(preprocess_newsgroup_row)\n",
        "    # Match label to target name index\n",
        "    df[\"Class Name\"] = df[\"Label\"].map(lambda l: newsgroup_dataset.target_names[l])\n",
        "\n",
        "    return df"
      ],
      "metadata": {
        "id": "urpLwp3UmPF3",
        "trusted": true,
        "execution": {
          "iopub.status.busy": "2025-04-01T14:24:57.671971Z",
          "iopub.execute_input": "2025-04-01T14:24:57.673238Z",
          "iopub.status.idle": "2025-04-01T14:24:58.008984Z",
          "shell.execute_reply.started": "2025-04-01T14:24:57.673189Z",
          "shell.execute_reply": "2025-04-01T14:24:58.007632Z"
        }
      },
      "outputs": [],
      "execution_count": null
    },
    {
      "cell_type": "code",
      "source": [
        "# Apply preprocessing function to training and test datasets\n",
        "df_train = preprocess_newsgroup_data(newsgroups_train)\n",
        "df_test = preprocess_newsgroup_data(newsgroups_test)\n",
        "\n",
        "df_train.head()"
      ],
      "metadata": {
        "id": "JMKddQdNnAOV",
        "trusted": true,
        "execution": {
          "iopub.status.busy": "2025-04-01T14:25:22.873986Z",
          "iopub.execute_input": "2025-04-01T14:25:22.87456Z",
          "iopub.status.idle": "2025-04-01T14:25:26.792771Z",
          "shell.execute_reply.started": "2025-04-01T14:25:22.874523Z",
          "shell.execute_reply": "2025-04-01T14:25:26.791637Z"
        }
      },
      "outputs": [],
      "execution_count": null
    },
    {
      "cell_type": "markdown",
      "source": [
        "Next, you will sample some of the data by taking 100 data points in the training dataset, and dropping a few of the categories to run through this tutorial. Choose the science categories to compare."
      ],
      "metadata": {
        "id": "ogEGbg5XDv-T"
      }
    },
    {
      "cell_type": "code",
      "source": [
        "def sample_data(df, num_samples, classes_to_keep):\n",
        "    # Sample rows, selecting num_samples of each Label.\n",
        "    df = (\n",
        "        df.groupby(\"Label\")[df.columns]\n",
        "        .apply(lambda x: x.sample(num_samples))\n",
        "        .reset_index(drop=True)\n",
        "    )\n",
        "\n",
        "    df = df[df[\"Class Name\"].str.contains(classes_to_keep)]\n",
        "\n",
        "    # We have fewer categories now, so re-calibrate the label encoding.\n",
        "    df[\"Class Name\"] = df[\"Class Name\"].astype(\"category\")\n",
        "    df[\"Encoded Label\"] = df[\"Class Name\"].cat.codes\n",
        "\n",
        "    return df"
      ],
      "metadata": {
        "id": "C2N7xXhJohLR",
        "trusted": true,
        "execution": {
          "iopub.status.busy": "2025-04-01T14:25:54.651493Z",
          "iopub.execute_input": "2025-04-01T14:25:54.651926Z",
          "iopub.status.idle": "2025-04-01T14:25:54.658807Z",
          "shell.execute_reply.started": "2025-04-01T14:25:54.651886Z",
          "shell.execute_reply": "2025-04-01T14:25:54.657563Z"
        }
      },
      "outputs": [],
      "execution_count": null
    },
    {
      "cell_type": "code",
      "source": [
        "TRAIN_NUM_SAMPLES = 100\n",
        "TEST_NUM_SAMPLES = 25\n",
        "# Class name should contain 'sci' to keep science categories.\n",
        "# Try different labels from the data - see newsgroups_train.target_names\n",
        "CLASSES_TO_KEEP = \"sci\"\n",
        "\n",
        "df_train = sample_data(df_train, TRAIN_NUM_SAMPLES, CLASSES_TO_KEEP)\n",
        "df_test = sample_data(df_test, TEST_NUM_SAMPLES, CLASSES_TO_KEEP)"
      ],
      "metadata": {
        "id": "jS2g_ZGupBUb",
        "trusted": true,
        "execution": {
          "iopub.status.busy": "2025-04-01T14:26:04.488737Z",
          "iopub.execute_input": "2025-04-01T14:26:04.48998Z",
          "iopub.status.idle": "2025-04-01T14:26:04.537585Z",
          "shell.execute_reply.started": "2025-04-01T14:26:04.489933Z",
          "shell.execute_reply": "2025-04-01T14:26:04.536443Z"
        }
      },
      "outputs": [],
      "execution_count": null
    },
    {
      "cell_type": "code",
      "source": [
        "df_train.value_counts(\"Class Name\")"
      ],
      "metadata": {
        "id": "j04TMPY8rV5q",
        "trusted": true,
        "execution": {
          "iopub.status.busy": "2025-04-01T14:26:19.314337Z",
          "iopub.execute_input": "2025-04-01T14:26:19.314813Z",
          "iopub.status.idle": "2025-04-01T14:26:19.329299Z",
          "shell.execute_reply.started": "2025-04-01T14:26:19.314774Z",
          "shell.execute_reply": "2025-04-01T14:26:19.32784Z"
        }
      },
      "outputs": [],
      "execution_count": null
    },
    {
      "cell_type": "code",
      "source": [
        "df_test.value_counts(\"Class Name\")"
      ],
      "metadata": {
        "id": "qMsnfkVDsJlU",
        "trusted": true,
        "execution": {
          "iopub.status.busy": "2025-04-01T14:26:32.302259Z",
          "iopub.execute_input": "2025-04-01T14:26:32.303182Z",
          "iopub.status.idle": "2025-04-01T14:26:32.312878Z",
          "shell.execute_reply.started": "2025-04-01T14:26:32.303113Z",
          "shell.execute_reply": "2025-04-01T14:26:32.311469Z"
        }
      },
      "outputs": [],
      "execution_count": null
    },
    {
      "cell_type": "markdown",
      "source": [
        "## Create the embeddings\n",
        "\n",
        "In this section, you will generate embeddings for each piece of text using the Gemini API embeddings endpoint. To learn more about embeddings, visit the [embeddings guide](https://ai.google.dev/docs/embeddings_guide).\n",
        "\n",
        "**NOTE**: Embeddings are computed one at a time, so large sample sizes can take a long time!"
      ],
      "metadata": {
        "id": "Kr-WlKzXjYWn"
      }
    },
    {
      "cell_type": "markdown",
      "source": [
        "### Task types\n",
        "\n",
        "The `text-embedding-004` model supports a task type parameter that generates embeddings tailored for the specific task.\n",
        "\n",
        "Task Type | Description\n",
        "---       | ---\n",
        "RETRIEVAL_QUERY\t| Specifies the given text is a query in a search/retrieval setting.\n",
        "RETRIEVAL_DOCUMENT | Specifies the given text is a document in a search/retrieval setting.\n",
        "SEMANTIC_SIMILARITY\t| Specifies the given text will be used for Semantic Textual Similarity (STS).\n",
        "CLASSIFICATION\t| Specifies that the embeddings will be used for classification.\n",
        "CLUSTERING\t| Specifies that the embeddings will be used for clustering.\n",
        "FACT_VERIFICATION | Specifies that the given text will be used for fact verification.\n",
        "\n",
        "For this example you will be performing classification."
      ],
      "metadata": {
        "id": "yPECMeE2xYA_"
      }
    },
    {
      "cell_type": "code",
      "source": [
        "from google.api_core import retry\n",
        "import tqdm\n",
        "from tqdm.rich import tqdm as tqdmr\n",
        "import warnings\n",
        "\n",
        "# Add tqdm to Pandas...\n",
        "tqdmr.pandas()\n",
        "\n",
        "# ...But suppress the experimental warning.\n",
        "warnings.filterwarnings(\"ignore\", category=tqdm.TqdmExperimentalWarning)\n",
        "\n",
        "# Define a helper to retry when per-minute quota is reached.\n",
        "is_retriable = lambda e: (isinstance(e, genai.errors.APIError) and e.code in {429, 503})\n",
        "\n",
        "@retry.Retry(predicate=is_retriable, timeout=300.0)\n",
        "def embed_fn(text: str) -> list[float]:\n",
        "    # You will be performing classification, so set task_type accordingly.\n",
        "    response = client.models.embed_content(\n",
        "        model=\"models/text-embedding-004\",\n",
        "        contents=text,\n",
        "        config=types.EmbedContentConfig(\n",
        "            task_type=\"classification\",\n",
        "        ),\n",
        "    )\n",
        "\n",
        "    return response.embeddings[0].values\n",
        "\n",
        "\n",
        "def create_embeddings(df):\n",
        "    df[\"Embeddings\"] = df[\"Text\"].progress_apply(embed_fn)\n",
        "    return df"
      ],
      "metadata": {
        "id": "MTBGKkPQsotz",
        "trusted": true,
        "execution": {
          "iopub.status.busy": "2025-04-01T14:28:03.819103Z",
          "iopub.execute_input": "2025-04-01T14:28:03.820076Z",
          "iopub.status.idle": "2025-04-01T14:28:04.112694Z",
          "shell.execute_reply.started": "2025-04-01T14:28:03.820033Z",
          "shell.execute_reply": "2025-04-01T14:28:04.111436Z"
        }
      },
      "outputs": [],
      "execution_count": null
    },
    {
      "cell_type": "markdown",
      "source": [
        "This code is optimised for clarity, and is not particularly fast. It is left as an exercise for the reader to implement [batch](https://ai.google.dev/api/embeddings#method:-models.batchembedcontents) or parallel/asynchronous embedding generation. Running this step will take some time."
      ],
      "metadata": {
        "id": "HVDwY8F2kW2O"
      }
    },
    {
      "cell_type": "code",
      "source": [
        "df_train = create_embeddings(df_train)\n",
        "df_test = create_embeddings(df_test)"
      ],
      "metadata": {
        "id": "AH0yrHUHtHtw",
        "trusted": true,
        "execution": {
          "iopub.status.busy": "2025-04-01T14:28:15.660894Z",
          "iopub.execute_input": "2025-04-01T14:28:15.661437Z",
          "iopub.status.idle": "2025-04-01T14:34:01.040366Z",
          "shell.execute_reply.started": "2025-04-01T14:28:15.661392Z",
          "shell.execute_reply": "2025-04-01T14:34:01.039238Z"
        }
      },
      "outputs": [],
      "execution_count": null
    },
    {
      "cell_type": "code",
      "source": [
        "df_train.head()"
      ],
      "metadata": {
        "id": "6G5TvLlmRjHc",
        "trusted": true,
        "execution": {
          "iopub.status.busy": "2025-03-31T10:07:09.109299Z",
          "iopub.execute_input": "2025-03-31T10:07:09.10967Z",
          "iopub.status.idle": "2025-03-31T10:07:09.127195Z",
          "shell.execute_reply.started": "2025-03-31T10:07:09.109635Z",
          "shell.execute_reply": "2025-03-31T10:07:09.125874Z"
        }
      },
      "outputs": [],
      "execution_count": null
    },
    {
      "cell_type": "markdown",
      "source": [
        "## Build a classification model\n",
        "\n",
        "Here you will define a simple model that accepts the raw embedding data as input, has one hidden layer, and an output layer specifying the class probabilities. The prediction will correspond to the probability of a piece of text being a particular class of news.\n",
        "\n",
        "When you run the model, Keras will take care of details like shuffling the data points, calculating metrics and other ML boilerplate."
      ],
      "metadata": {
        "id": "QPYEYkIsWt_5"
      }
    },
    {
      "cell_type": "code",
      "source": [
        "import keras\n",
        "from keras import layers\n",
        "\n",
        "\n",
        "def build_classification_model(input_size: int, num_classes: int) -> keras.Model:\n",
        "    return keras.Sequential(\n",
        "        [\n",
        "            layers.Input([input_size], name=\"embedding_inputs\"),\n",
        "            layers.Dense(input_size, activation=\"relu\", name=\"hidden\"),\n",
        "            layers.Dense(num_classes, activation=\"softmax\", name=\"output_probs\"),\n",
        "        ]\n",
        "    )"
      ],
      "metadata": {
        "id": "3oLGi4w5JsQR",
        "trusted": true,
        "execution": {
          "iopub.status.busy": "2025-04-01T14:36:12.130522Z",
          "iopub.execute_input": "2025-04-01T14:36:12.130924Z",
          "iopub.status.idle": "2025-04-01T14:36:27.501153Z",
          "shell.execute_reply.started": "2025-04-01T14:36:12.130888Z",
          "shell.execute_reply": "2025-04-01T14:36:27.500186Z"
        }
      },
      "outputs": [],
      "execution_count": null
    },
    {
      "cell_type": "code",
      "source": [
        "# Derive the embedding size from observing the data. The embedding size can also be specified\n",
        "# with the `output_dimensionality` parameter to `embed_content` if you need to reduce it.\n",
        "embedding_size = len(df_train[\"Embeddings\"].iloc[0])\n",
        "\n",
        "classifier = build_classification_model(\n",
        "    embedding_size, len(df_train[\"Class Name\"].unique())\n",
        ")\n",
        "classifier.summary()\n",
        "\n",
        "classifier.compile(\n",
        "    loss=keras.losses.SparseCategoricalCrossentropy(),\n",
        "    optimizer=keras.optimizers.Adam(learning_rate=0.001),\n",
        "    metrics=[\"accuracy\"],\n",
        ")"
      ],
      "metadata": {
        "id": "kORA1Akl5GsG",
        "trusted": true,
        "execution": {
          "iopub.status.busy": "2025-04-01T14:36:39.743896Z",
          "iopub.execute_input": "2025-04-01T14:36:39.744664Z",
          "iopub.status.idle": "2025-04-01T14:36:39.858462Z",
          "shell.execute_reply.started": "2025-04-01T14:36:39.744627Z",
          "shell.execute_reply": "2025-04-01T14:36:39.857577Z"
        }
      },
      "outputs": [],
      "execution_count": null
    },
    {
      "cell_type": "markdown",
      "source": [
        "## Train the model\n",
        "\n",
        "Finally, you can train your model. This code uses early stopping to exit the training loop once the loss value stabilises, so the number of epoch loops executed may differ from the specified value."
      ],
      "metadata": {
        "id": "kbpTGGiMXDxl"
      }
    },
    {
      "cell_type": "code",
      "source": [
        "import numpy as np\n",
        "\n",
        "\n",
        "NUM_EPOCHS = 20\n",
        "BATCH_SIZE = 32\n",
        "\n",
        "# Split the x and y components of the train and validation subsets.\n",
        "y_train = df_train[\"Encoded Label\"]\n",
        "x_train = np.stack(df_train[\"Embeddings\"])\n",
        "y_val = df_test[\"Encoded Label\"]\n",
        "x_val = np.stack(df_test[\"Embeddings\"])\n",
        "\n",
        "# Specify that it's OK to stop early if accuracy stabilises.\n",
        "early_stop = keras.callbacks.EarlyStopping(monitor=\"accuracy\", patience=3)\n",
        "\n",
        "# Train the model for the desired number of epochs.\n",
        "history = classifier.fit(\n",
        "    x=x_train,\n",
        "    y=y_train,\n",
        "    validation_data=(x_val, y_val),\n",
        "    callbacks=[early_stop],\n",
        "    batch_size=BATCH_SIZE,\n",
        "    epochs=NUM_EPOCHS,\n",
        ")"
      ],
      "metadata": {
        "id": "bGgvMZGfJ1A4",
        "trusted": true,
        "execution": {
          "iopub.status.busy": "2025-04-01T14:37:36.948276Z",
          "iopub.execute_input": "2025-04-01T14:37:36.948681Z",
          "iopub.status.idle": "2025-04-01T14:37:40.70767Z",
          "shell.execute_reply.started": "2025-04-01T14:37:36.948645Z",
          "shell.execute_reply": "2025-04-01T14:37:40.706791Z"
        }
      },
      "outputs": [],
      "execution_count": null
    },
    {
      "cell_type": "markdown",
      "source": [
        "## Evaluate model performance\n",
        "\n",
        "Use Keras <a href=\"https://www.tensorflow.org/api_docs/python/tf/keras/Model#evaluate\"><code>Model.evaluate</code></a> to calculate the loss and accuracy on the test dataset."
      ],
      "metadata": {
        "id": "xGBaDHZUPdJO"
      }
    },
    {
      "cell_type": "code",
      "source": [
        "classifier.evaluate(x=x_val, y=y_val, return_dict=True)"
      ],
      "metadata": {
        "id": "d2kOeiqqQIB8",
        "trusted": true,
        "execution": {
          "iopub.status.busy": "2025-04-01T14:38:22.167548Z",
          "iopub.execute_input": "2025-04-01T14:38:22.168158Z",
          "iopub.status.idle": "2025-04-01T14:38:22.263309Z",
          "shell.execute_reply.started": "2025-04-01T14:38:22.168107Z",
          "shell.execute_reply": "2025-04-01T14:38:22.262305Z"
        }
      },
      "outputs": [],
      "execution_count": null
    },
    {
      "cell_type": "markdown",
      "source": [
        "To learn more about training models with Keras, including how to visualise the model training metrics, read [Training & evaluation with built-in methods](https://www.tensorflow.org/guide/keras/training_with_built_in_methods)."
      ],
      "metadata": {
        "id": "UyxMhiLYQXAN"
      }
    },
    {
      "cell_type": "markdown",
      "source": [
        "## Try a custom prediction\n",
        "\n",
        "Now that you have a trained model with good evaluation metrics, you can try to make a prediction with new, hand-written data. Use the provided example or try your own data to see how the model performs."
      ],
      "metadata": {
        "id": "XHyP-_torwsm"
      }
    },
    {
      "cell_type": "code",
      "source": [
        "def make_prediction(text: str) -> list[float]:\n",
        "    \"\"\"Infer categories from the provided text.\"\"\"\n",
        "    # Remember that the model takes embeddings as input, so calculate them first.\n",
        "    embedded = embed_fn(new_text)\n",
        "\n",
        "    # And recall that the input must be batched, so here they are wrapped as a\n",
        "    # list to provide a batch of 1.\n",
        "    inp = np.array([embedded])\n",
        "\n",
        "    # And un-batched here.\n",
        "    [result] = classifier.predict(inp)\n",
        "    return result"
      ],
      "metadata": {
        "id": "Lj4gR0Mdr2rb",
        "trusted": true,
        "execution": {
          "iopub.status.busy": "2025-04-01T14:40:26.77984Z",
          "iopub.execute_input": "2025-04-01T14:40:26.780267Z",
          "iopub.status.idle": "2025-04-01T14:40:26.786912Z",
          "shell.execute_reply.started": "2025-04-01T14:40:26.780229Z",
          "shell.execute_reply": "2025-04-01T14:40:26.785597Z"
        }
      },
      "outputs": [],
      "execution_count": null
    },
    {
      "cell_type": "code",
      "source": [
        "# This example avoids any space-specific terminology to see if the model avoids\n",
        "# biases towards specific jargon.\n",
        "\n",
        "#new_text = \"\"\"\n",
        "# First-timer looking to get out of here.\n",
        "\n",
        "#Hi, I'm writing about my interest in travelling to the outer limits!\n",
        "\n",
        "#What kind of craft can I buy? What is easiest to access from this 3rd rock?\n",
        "\n",
        "#Let me know how to do that please.\n",
        "#\"\"\"\n",
        "\n",
        "new_text = \"\"\"\n",
        "New developer.\n",
        "\n",
        "Hi, I'm writing about my interest in develop a new project using raspberry Pi!\n",
        "\n",
        "What kind of sensors can I buy? What is cheapest provider?\n",
        "\n",
        "Let me know how to do that please.\n",
        "\"\"\"\n",
        "\n",
        "result = make_prediction(new_text)\n",
        "\n",
        "for idx, category in enumerate(df_test[\"Class Name\"].cat.categories):\n",
        "    print(f\"{category}: {result[idx] * 100:0.2f}%\")"
      ],
      "metadata": {
        "id": "CKTHEMrRsbcu",
        "trusted": true,
        "execution": {
          "iopub.status.busy": "2025-04-01T14:45:40.292127Z",
          "iopub.execute_input": "2025-04-01T14:45:40.292527Z",
          "iopub.status.idle": "2025-04-01T14:45:40.643679Z",
          "shell.execute_reply.started": "2025-04-01T14:45:40.292492Z",
          "shell.execute_reply": "2025-04-01T14:45:40.642596Z"
        }
      },
      "outputs": [],
      "execution_count": null
    },
    {
      "cell_type": "markdown",
      "source": [
        "## Further reading\n",
        "\n",
        "To explore training custom models with Keras further, check out the [Keras guides](https://keras.io/guides/).\n",
        "\n",
        "*- [Mark McD](https://linktr.ee/markmcd)*"
      ],
      "metadata": {
        "id": "mkbnkFLC2kLq"
      }
    }
  ]
}